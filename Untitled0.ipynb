{
  "nbformat": 4,
  "nbformat_minor": 0,
  "metadata": {
    "colab": {
      "provenance": []
    },
    "kernelspec": {
      "name": "python3",
      "display_name": "Python 3"
    },
    "language_info": {
      "name": "python"
    }
  },
  "cells": [
    {
      "cell_type": "code",
      "execution_count": null,
      "metadata": {
        "id": "XdcshMdfVjwx",
        "colab": {
          "base_uri": "https://localhost:8080/"
        },
        "outputId": "58ab6a3c-633f-452a-a31f-570c0c8ca9c5"
      },
      "outputs": [
        {
          "output_type": "stream",
          "name": "stdout",
          "text": [
            " * Serving Flask app '__main__'\n",
            " * Debug mode: on\n"
          ]
        },
        {
          "output_type": "stream",
          "name": "stderr",
          "text": [
            "INFO:werkzeug:\u001b[31m\u001b[1mWARNING: This is a development server. Do not use it in a production deployment. Use a production WSGI server instead.\u001b[0m\n",
            " * Running on http://127.0.0.1:5000\n",
            "INFO:werkzeug:\u001b[33mPress CTRL+C to quit\u001b[0m\n",
            "INFO:werkzeug: * Restarting with stat\n"
          ]
        }
      ],
      "source": [
        "import pandas as pd\n",
        "from sklearn.model_selection import train_test_split\n",
        "from sklearn.linear_model import LinearRegression\n",
        "from flask import Flask, render_template, request\n",
        "\n",
        "app = Flask(__name__)\n",
        "\n",
        "# Sample data\n",
        "data = {\n",
        "    'Price': [200000, 150000, 180000, 160000, 190000, 170000],\n",
        "    'Quality': [9, 8, 9, 8, 7, 8],\n",
        "    'Shipping': [1, 0, 1, 0, 1, 0],\n",
        "    'Discount': [0.05, 0.05, 0.05, 0.05, 0.03, 0.02],\n",
        "    'Sales': [120, 80, 100, 70, 90, 110]\n",
        "}\n",
        "\n",
        "df = pd.DataFrame(data)\n",
        "\n",
        "@app.route('/', methods=['GET', 'POST'])\n",
        "def index():\n",
        "    if request.method == 'POST':\n",
        "        # Get input data from the form\n",
        "        price = float(request.form['price'])\n",
        "        quality = int(request.form['quality'])\n",
        "        shipping = int(request.form['shipping'])\n",
        "        discount = float(request.form['discount'])\n",
        "\n",
        "        # Add new data to the DataFrame\n",
        "        df_new = pd.DataFrame({\n",
        "            'Price': df['Price'].tolist() + [price],\n",
        "            'Quality': df['Quality'].tolist() + [quality],\n",
        "            'Shipping': df['Shipping'].tolist() + [shipping],\n",
        "            'Discount': df['Discount'].tolist() + [discount],\n",
        "            'Sales': df['Sales'].tolist() + [None]\n",
        "        })\n",
        "\n",
        "        # Split data into training and testing sets\n",
        "        X = df_new[['Price', 'Quality', 'Shipping', 'Discount']]\n",
        "        y = df_new['Sales']\n",
        "        X_train, X_test, y_train, _ = train_test_split(X, y, test_size=0.1, random_state=42)\n",
        "\n",
        "        # Create a linear regression model and train the model\n",
        "        model = LinearRegression()\n",
        "        model.fit(X_train, y_train)\n",
        "\n",
        "        # Predict sales based on input data\n",
        "        new_data = [[price, quality, shipping, discount]]\n",
        "        predicted_sales = model.predict(new_data)\n",
        "\n",
        "        return render_template('index.html', predicted_sales=predicted_sales[0])\n",
        "\n",
        "    return render_template('index.html', predicted_sales=None)\n",
        "\n",
        "if __name__ == '__main__':\n",
        "    app.run(debug=True)"
      ]
    }
  ]
}